{
 "cells": [
  {
   "cell_type": "code",
   "execution_count": 44,
   "id": "fitting-endorsement",
   "metadata": {},
   "outputs": [],
   "source": [
    "using DataFrames\n",
    "using CSV"
   ]
  },
  {
   "cell_type": "code",
   "execution_count": 45,
   "id": "occasional-portugal",
   "metadata": {},
   "outputs": [
    {
     "data": {
      "text/plain": [
       "DataFrames"
      ]
     },
     "execution_count": 45,
     "metadata": {},
     "output_type": "execute_result"
    }
   ],
   "source": [
    "DF = DataFrames"
   ]
  },
  {
   "cell_type": "code",
   "execution_count": null,
   "id": "guilty-alarm",
   "metadata": {},
   "outputs": [],
   "source": [
    "* Julia prints the return of functions. Use a semi-colon to prevent this."
   ]
  },
  {
   "cell_type": "code",
   "execution_count": 41,
   "id": "fallen-violin",
   "metadata": {},
   "outputs": [],
   "source": [
    "df = CSV.read(\"../data/Copa-FSU-02172021.csv\", DataFrame);"
   ]
  },
  {
   "cell_type": "markdown",
   "id": "fancy-dealer",
   "metadata": {},
   "source": [
    "* No need to create a cleanup routine because I constructed the cleaned csv file using Python"
   ]
  },
  {
   "cell_type": "code",
   "execution_count": null,
   "id": "raising-colleague",
   "metadata": {},
   "outputs": [],
   "source": []
  }
 ],
 "metadata": {
  "kernelspec": {
   "display_name": "Julia 1.6.0",
   "language": "julia",
   "name": "julia-1.6"
  },
  "language_info": {
   "file_extension": ".jl",
   "mimetype": "application/julia",
   "name": "julia",
   "version": "1.6.0"
  },
  "widgets": {
   "application/vnd.jupyter.widget-state+json": {
    "state": {},
    "version_major": 2,
    "version_minor": 0
   }
  }
 },
 "nbformat": 4,
 "nbformat_minor": 5
}
