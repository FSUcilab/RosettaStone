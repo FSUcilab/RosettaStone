{
 "cells": [
  {
   "cell_type": "markdown",
   "id": "genetic-george",
   "metadata": {},
   "source": [
    "# Time plot Diagnostics"
   ]
  },
  {
   "cell_type": "code",
   "execution_count": null,
   "id": "immediate-basin",
   "metadata": {},
   "outputs": [],
   "source": [
    "# Use magic commands (%)\n",
    "\n",
    "# When modifying libraries, no need to restart the kernel\n",
    "%matplotlib inline  \n",
    "%load_ext autoreload\n",
    "%autoreload 2"
   ]
  },
  {
   "cell_type": "code",
   "execution_count": null,
   "id": "decreased-characterization",
   "metadata": {},
   "outputs": [],
   "source": [
    "import pandas as pd\n",
    "import matplotlib.pyplot as plt\n",
    "import numpy as np\n",
    "import seaborn as sns\n",
    "import matplotlib\n",
    "\n",
    "import src.copa.util_functions as u"
   ]
  },
  {
   "cell_type": "code",
   "execution_count": null,
   "id": "optical-filing",
   "metadata": {},
   "outputs": [],
   "source": [
    "u.setPandasOptions()"
   ]
  },
  {
   "cell_type": "code",
   "execution_count": null,
   "id": "northern-friday",
   "metadata": {},
   "outputs": [],
   "source": [
    "f1 = pd.read_csv(\"data/Copa-FSU-02172021_comma separated.csv\") #, nrows=10000)"
   ]
  },
  {
   "cell_type": "code",
   "execution_count": null,
   "id": "ideal-removal",
   "metadata": {},
   "outputs": [],
   "source": [
    "#f2,_ = u.cleanupColumns(f1)"
   ]
  },
  {
   "cell_type": "code",
   "execution_count": null,
   "id": "supported-arabic",
   "metadata": {},
   "outputs": [],
   "source": [
    "#f2.to_csv(\"data/fsu_clean.csv\", index=0)"
   ]
  },
  {
   "cell_type": "code",
   "execution_count": null,
   "id": "individual-brazilian",
   "metadata": {},
   "outputs": [],
   "source": [
    "# Only 72 columns left. All DTMZ dates are integers\n",
    "fsu = pd.read_csv(\"data/fsu_clean.csv\") \n",
    "\n",
    "# Make sure it is reading from the Rosetta Stone data folder\n",
    "#   x.csv only exiss in the Rosetta Stone data folder\n",
    "#fsu = pd.read_csv(\"data/x.csv\") "
   ]
  },
  {
   "cell_type": "code",
   "execution_count": null,
   "id": "scheduled-uganda",
   "metadata": {},
   "outputs": [],
   "source": [
    "#fsu.to_csv(\"data/fsu_clean.csv\", index=0)"
   ]
  },
  {
   "cell_type": "code",
   "execution_count": null,
   "id": "animal-examination",
   "metadata": {},
   "outputs": [],
   "source": [
    "# Store dates as integers (nanoseconds)\n",
    "fsu['IN_DTMZ'].head(3)"
   ]
  },
  {
   "cell_type": "code",
   "execution_count": null,
   "id": "delayed-madness",
   "metadata": {},
   "outputs": [],
   "source": [
    "# Make sure pd.to_datetime works\n",
    "dt = pd.to_datetime(fsu['IN_DTMZ'])\n",
    "dt.head(3)"
   ]
  },
  {
   "cell_type": "code",
   "execution_count": null,
   "id": "lasting-waters",
   "metadata": {},
   "outputs": [],
   "source": [
    "fsu = u.removeCancellations(fsu)\n",
    "fsu = u.removeTurnbacks(fsu)\n",
    "fsu = u.removeDiversions(fsu)"
   ]
  },
  {
   "cell_type": "markdown",
   "id": "revolutionary-drove",
   "metadata": {},
   "source": [
    "# Flights\n",
    "* Every row is a different flight\n",
    "* Flight by hour, day, week, month\n",
    "\n",
    "## General Strategy\n",
    "* Collect the columns of interest into a Dataframe\n",
    "* Work with that dataframe\n",
    "* Much faster since less data"
   ]
  },
  {
   "cell_type": "code",
   "execution_count": null,
   "id": "blocked-disney",
   "metadata": {},
   "outputs": [],
   "source": [
    "data = fsu['FLT_NUM']"
   ]
  },
  {
   "cell_type": "code",
   "execution_count": null,
   "id": "decimal-wings",
   "metadata": {},
   "outputs": [],
   "source": [
    "fsu"
   ]
  },
  {
   "cell_type": "code",
   "execution_count": null,
   "id": "suited-facility",
   "metadata": {},
   "outputs": [],
   "source": [
    "data.hist(bins=50)"
   ]
  },
  {
   "cell_type": "markdown",
   "id": "constitutional-margin",
   "metadata": {},
   "source": [
    "# Observation: there are two sets of flights\n",
    "* We learned from Copa that we should only consider FLT_NUM between 0 and 999.\n",
    "* As seen below, there are 4051 flights not CM. We remove them. "
   ]
  },
  {
   "cell_type": "code",
   "execution_count": null,
   "id": "eligible-detail",
   "metadata": {},
   "outputs": [],
   "source": [
    "(fsu.AC_OWNER_CARRIER_CD != 'CM').sum()"
   ]
  },
  {
   "cell_type": "code",
   "execution_count": null,
   "id": "characteristic-installation",
   "metadata": {},
   "outputs": [],
   "source": [
    "fsu = u.filterFlights(fsu)"
   ]
  },
  {
   "cell_type": "code",
   "execution_count": null,
   "id": "respected-steal",
   "metadata": {},
   "outputs": [],
   "source": [
    "fsu['FLT_NUM'].hist(bins=30)"
   ]
  },
  {
   "cell_type": "markdown",
   "id": "unable-guide",
   "metadata": {},
   "source": [
    "* We observe that the higher the flight number, the lower the number of flights. \n",
    "* This suggests that lower flights numbers flight more often.\n",
    "\n",
    "## Number of flights per day\n",
    "* Aggregate by day and compute the number of flights per hour\n",
    "* We must extract the hour from the database \n",
    "* We then aggregate the number of flights by hour"
   ]
  },
  {
   "cell_type": "code",
   "execution_count": null,
   "id": "fleet-transcript",
   "metadata": {},
   "outputs": [],
   "source": [
    "tmz = u.series_to_time_components(fsu['SCH_DEP_TMZ'])\n",
    "tmz.head()"
   ]
  },
  {
   "cell_type": "markdown",
   "id": "phantom-profit",
   "metadata": {},
   "source": [
    "* Compute the average number of flights (departures and arrivals) per hour"
   ]
  },
  {
   "cell_type": "code",
   "execution_count": null,
   "id": "prepared-adolescent",
   "metadata": {},
   "outputs": [],
   "source": [
    "nb_days = fsu['SCH_DEP_DTZ'].nunique()\n",
    "fsu1 = fsu.copy()  # prevent slicing program (I do not fully understand)\n",
    "print(\"Nb unique days: \", nb_days)\n",
    "# nb flights per day\n",
    "fsu1['h'] = tmz['h']\n",
    "fsu = fsu1.copy()\n",
    "# Average number of daily flights each hour\n",
    "fsu['per_hour'] = fsu.groupby('h')['FLT_NUM'].transform('size')  / nb_days"
   ]
  },
  {
   "cell_type": "markdown",
   "id": "auburn-april",
   "metadata": {},
   "source": [
    "## Observations\n",
    "* It is a good idea to remove Warnings. \n",
    "* transform() is used with groupby to create a column of aggregated data over subgroups\n",
    "    * sum, mean, std, etc"
   ]
  },
  {
   "cell_type": "code",
   "execution_count": null,
   "id": "fallen-threat",
   "metadata": {},
   "outputs": [],
   "source": [
    "# Average number of flights per hour\n",
    "fsu['per_hour'].head(5), fsu.shape"
   ]
  },
  {
   "cell_type": "markdown",
   "id": "considerable-summary",
   "metadata": {},
   "source": [
    "* Compute the average number of flights per hour, averaged over all days"
   ]
  },
  {
   "cell_type": "code",
   "execution_count": null,
   "id": "signed-mortgage",
   "metadata": {},
   "outputs": [],
   "source": [
    "data = fsu[['per_hour','h']]"
   ]
  },
  {
   "cell_type": "code",
   "execution_count": null,
   "id": "middle-resistance",
   "metadata": {},
   "outputs": [],
   "source": [
    "data;"
   ]
  },
  {
   "cell_type": "code",
   "execution_count": null,
   "id": "copyrighted-corrections",
   "metadata": {},
   "outputs": [],
   "source": [
    "# Choose bins carefully, choose what to plot carefully\n",
    "data.hist(bins=30)"
   ]
  },
  {
   "cell_type": "markdown",
   "id": "independent-overhead",
   "metadata": {},
   "source": [
    "# Plot Mean values as a function of hour"
   ]
  },
  {
   "cell_type": "markdown",
   "id": "acute-hampton",
   "metadata": {},
   "source": [
    "# Plot as much data as possible \n",
    "* Balance between plot complexity and plot insights\n",
    "* One plot or multiple plots?\n",
    "    * Case by case basis"
   ]
  },
  {
   "cell_type": "code",
   "execution_count": null,
   "id": "wound-arbor",
   "metadata": {},
   "outputs": [],
   "source": [
    "data.columns"
   ]
  },
  {
   "cell_type": "code",
   "execution_count": null,
   "id": "cardiac-edward",
   "metadata": {},
   "outputs": [],
   "source": [
    "data.boxplot(column='per_hour', by='h', figsize=(10,4))"
   ]
  },
  {
   "cell_type": "markdown",
   "id": "terminal-exclusive",
   "metadata": {},
   "source": [
    "## Observation\n",
    "* The box plot is a poor choice since each group has the same per-hour daily average"
   ]
  },
  {
   "cell_type": "code",
   "execution_count": null,
   "id": "expected-expert",
   "metadata": {},
   "outputs": [],
   "source": [
    "data.groupby('h')['per_hour'].mean().plot()"
   ]
  },
  {
   "cell_type": "markdown",
   "id": "discrete-summary",
   "metadata": {},
   "source": [
    "## Observation\n",
    "* The line plot is useful to connect points over a coordinate direction (time or x or y)\n",
    "* There are more flights around 1 am, and between 11h an 22h\n",
    "* HOWEVER: the times are Zulu, so subract 5 hours to get PTY time\n",
    "* Thus, there are more flights around 8 pm, and between 6am and 5 pm. \n",
    "    * Makes sense"
   ]
  },
  {
   "cell_type": "code",
   "execution_count": null,
   "id": "editorial-sample",
   "metadata": {},
   "outputs": [],
   "source": [
    "# Same plot as before, but as a bar chart. \n",
    "# The content is identical to the lineplot but looks nicer\n",
    "data.groupby('h')['per_hour'].mean().plot(x='h',y='per_hour',kind='bar')"
   ]
  },
  {
   "cell_type": "markdown",
   "id": "charitable-lodge",
   "metadata": {},
   "source": [
    "# Are the flights per hour correct? \n",
    "* The times are DTMZ, so I must subtract 5 hours\n",
    "* mod 24, and sort the hours to get a range [0,24]\n",
    "* So we replot"
   ]
  },
  {
   "cell_type": "code",
   "execution_count": null,
   "id": "spatial-commodity",
   "metadata": {},
   "outputs": [],
   "source": [
    "hours = data.groupby('h')['per_hour'].mean().reset_index() #to_frame('per_hour')\n",
    "hours['h'] = ((hours['h'] - 5 + 24) % 24)   # Convert to panama time\n",
    "hours.sort_values('h', inplace=True)\n",
    "hours;\n",
    "#“hours.plot(x='h',y='per_hour',kind='bar')"
   ]
  },
  {
   "cell_type": "code",
   "execution_count": null,
   "id": "answering-bouquet",
   "metadata": {},
   "outputs": [],
   "source": [
    "hours.plot(x='h',y='per_hour',kind='bar') "
   ]
  },
  {
   "cell_type": "markdown",
   "id": "worthy-hopkins",
   "metadata": {},
   "source": [
    "## Observations\n",
    "* The plots suggest a peak bretween 7-9 am, 3 pm, 18 pm, and 21 pm.\n",
    "* Let us separate arrivals and departures\n",
    "* Create a column with 'dep' and 'arr' symbols\n",
    "* For this, return to fsu dataframe\n",
    "* Later, during the course of debugging, I will create to transform time from Zulu to Local"
   ]
  },
  {
   "cell_type": "code",
   "execution_count": null,
   "id": "lonely-chase",
   "metadata": {},
   "outputs": [],
   "source": [
    "# Make sure that ORIG_CD and DEST_CD are consistent with OD\n",
    "# In other words, make sure that OD = ORIG_CD + DEST_CD\n",
    "# This is not always the case. But we have removed diversions, cancellations, etc\n",
    "fsu[(fsu['ORIG_CD']=='PTY') & (fsu['OD'].str[0:3] != 'PTY')]"
   ]
  },
  {
   "cell_type": "markdown",
   "id": "boolean-working",
   "metadata": {},
   "source": [
    "## Observations\n",
    "* In my original exploration, there were 9 flights in the next cell. \n",
    "* They are probably cancellations, diversions, turnbacks, etc. \n",
    "    * We do not worry about them. We removed them in a cleanup function."
   ]
  },
  {
   "cell_type": "code",
   "execution_count": null,
   "id": "several-cambodia",
   "metadata": {},
   "outputs": [],
   "source": [
    "# Not clear why there are still 4 rows left\n",
    "fsu[(fsu['DEST_CD']=='PTY') & (fsu['OD'].str[3:6] != 'PTY')].shape"
   ]
  },
  {
   "cell_type": "code",
   "execution_count": null,
   "id": "drawn-butler",
   "metadata": {},
   "outputs": [],
   "source": [
    "nodiversion = (fsu['OD'] != (fsu['ORIG_CD']+fsu['DEST_CD']))\n",
    "fsu[nodiversion].shape, fsu.shape"
   ]
  },
  {
   "cell_type": "markdown",
   "id": "blond-large",
   "metadata": {},
   "source": [
    "## All problems stated here have been fixed in method cleanColumns()\n",
    "* Notice that these are all diversions. \n",
    "* However, I thought I removed diversions. How to identify these\n",
    "    * 1) by the FLT_TYPE_NAME containing \"diversion\"\n",
    "    * 2) ORIGIN_PLANNED != ORIG_CD  (takes care of 3 out of 4)\n",
    "    * 3) ORIG_CD == DEST_CD (this is a turnback, but they have been removed)\n",
    "* Remove flights where 'ORIG_CD' + 'DEST_CD' != 'OD'\n",
    "    * This takes care of all diversions"
   ]
  },
  {
   "cell_type": "code",
   "execution_count": null,
   "id": "negative-perry",
   "metadata": {},
   "outputs": [],
   "source": [
    "# How is it possible to have OD=PTYPTY and it is classified as a diversion?\n",
    "fsu1 = fsu[(fsu['DEST_CD']=='PTY') & (fsu['OD'].str[3:6] != 'PTY')]\n",
    "fsu1.to_csv(\"Strange_diversion.csv\", index=0)\n",
    "fsu1"
   ]
  },
  {
   "cell_type": "code",
   "execution_count": null,
   "id": "quiet-display",
   "metadata": {},
   "outputs": [],
   "source": [
    "# Make sure that ORIG_CD and DEST_CD are consistent with OD\n",
    "# all is now consistent\n",
    "fsu[(fsu['ORIG_CD']=='PTY') & (fsu['OD'].str[0:3] != 'PTY')]"
   ]
  },
  {
   "cell_type": "code",
   "execution_count": null,
   "id": "cardiac-bumper",
   "metadata": {},
   "outputs": [],
   "source": [
    "fsu['dep-arr'] = 'dep'\n",
    "fsu.loc[fsu['OD'].str[3:6] == 'PTY', 'dep-arr'] = 'arr'"
   ]
  },
  {
   "cell_type": "code",
   "execution_count": null,
   "id": "dense-albuquerque",
   "metadata": {},
   "outputs": [],
   "source": [
    "# Without the copy, there is a slicing warning, and wy take chances?\n",
    "data.loc[:,'dep-arr'] = fsu.copy().loc[:,'dep-arr']\n",
    "data.columns"
   ]
  },
  {
   "cell_type": "code",
   "execution_count": null,
   "id": "coated-president",
   "metadata": {},
   "outputs": [],
   "source": [
    "hours = data.groupby(['h','dep-arr'])['per_hour'].mean().reset_index() #to_frame('per_hour')\n",
    "hours['h'] = ((hours['h'] - 5 + 24) % 24)   # Convert to panama time\n",
    "hours.sort_values('h', inplace=True)\n",
    "#“hours.plot(x='h',y='per_hour',kind='bar')"
   ]
  },
  {
   "cell_type": "code",
   "execution_count": null,
   "id": "covered-crown",
   "metadata": {},
   "outputs": [],
   "source": [
    "# Hours are now in PTY time\n",
    "# Departures start arund 7 am, with peaks at 9 am, 15 pm, 18 pm, 21 pm\n",
    "# Not many arri vals after 6 pm\n",
    "\n",
    "plt.figure(figsize=(10,5))\n",
    "ax = sns.barplot(data=hours,x='h',y='per_hour',hue='dep-arr')\n",
    "ax.set_xlim(0,23)"
   ]
  },
  {
   "cell_type": "markdown",
   "id": "automated-there",
   "metadata": {},
   "source": [
    "## Next issue: arrivals is equal to departures on many hours. \n",
    "* Is this true? Let us plot a single day\n",
    "* We are creating many similar plots: Time for a user-deifned function!"
   ]
  },
  {
   "cell_type": "code",
   "execution_count": null,
   "id": "studied-romantic",
   "metadata": {},
   "outputs": [],
   "source": [
    "# Strictly speaking, I should do the scan using PTY time.\n",
    "# So the results are only approximatley correct\n",
    "fsu_oneday_dep = fsu[(fsu['SCH_DEP_DTZ'] == '2020-02-13') & (fsu['ORIG_CD'] == 'PTY')].copy()\n",
    "fsu_oneday_dep.loc[:, 'dep-arr'] = 'dep'\n",
    "fsu_oneday_arr = fsu[(fsu['SCH_ARR_DTZ'] == '2020-02-13') & (fsu['DEST_CD'] == 'PTY')].copy()\n",
    "fsu_oneday_arr.loc[:, 'dep-arr'] = 'arr'"
   ]
  },
  {
   "cell_type": "code",
   "execution_count": null,
   "id": "meaning-member",
   "metadata": {},
   "outputs": [],
   "source": [
    "fsu['IN_DTMZ'].dtype"
   ]
  },
  {
   "cell_type": "code",
   "execution_count": null,
   "id": "impaired-external",
   "metadata": {},
   "outputs": [],
   "source": [
    "# Careful. Some words cannot be variables. E.g. \"in\" is not allowed. So use \"inz\"\n",
    "# The following lines are in preparation of using actual time of departure and arrival\n",
    "inz = pd.to_datetime(fsu['IN_DTMZ']).dt.date\n",
    "outz = pd.to_datetime(fsu['OUT_DTMZ']).dt.date\n",
    "\n",
    "fsu_oneday_in  = fsu[(inz == '2020-02-13') & (fsu['DEST_CD'] == 'PTY')]\n",
    "fsu_oneday_out = fsu[(inz == '2020-02-13') & (fsu['ORIG_CD'] == 'PTY')]"
   ]
  },
  {
   "cell_type": "code",
   "execution_count": null,
   "id": "sufficient-salmon",
   "metadata": {},
   "outputs": [],
   "source": [
    "def per_hour(fsu_dep1, fsu_arr1, title=\"\"):\n",
    "    \"\"\"\n",
    "    Plot numbrer of scheduled arrivals and departures per hour\n",
    "    \"\"\"\n",
    "    fsu_dep = fsu_dep1.copy()\n",
    "    fsu_arr = fsu_arr1.copy()\n",
    "    \n",
    "    nb_days = fsu_dep['SCH_DEP_DTZ'].nunique()\n",
    "    tmz = u.series_to_time_components(fsu_dep['SCH_DEP_TMZ'])\n",
    "    fsu_dep['h'] = tmz['h'].copy()\n",
    "    fsu_dep['mi'] = tmz['mi'].copy()\n",
    "    fsu_dep['per_hour'] = fsu_dep.groupby('h')['FLT_NUM'].transform('size')  / nb_days\n",
    "    fsu_dep['dep-arr'] = 'dep'\n",
    "    tot_num_dep = fsu_dep['per_hour'].sum()\n",
    "            \n",
    "    nb_days = fsu_arr['SCH_DEP_DTZ'].nunique()\n",
    "    tmz = u.series_to_time_components(fsu_arr['SCH_ARR_TMZ'])\n",
    "    fsu_arr['h'] = tmz['h'].copy()\n",
    "    fsu_arr['mi'] = tmz['mi'].copy()\n",
    "    fsu_arr['per_hour'] = fsu_arr.groupby('h')['FLT_NUM'].transform('size')  / nb_days\n",
    "    fsu_arr['dep-arr'] = 'arr'\n",
    " \n",
    "    fsu = pd.concat([fsu_dep, fsu_arr], axis=0)\n",
    "    \n",
    "    data = fsu[['per_hour','h','dep-arr']]\n",
    "    hours = data.groupby(['h','dep-arr'])['per_hour'].mean().reset_index() #to_frame('per_hour')\n",
    "    # -5 to convert from Zulu to Panama time\n",
    "    hours['h'] = ((hours['h'] - 5 + 24) % 24)   # Convert to panama time\n",
    "    hours.sort_values('h', inplace=True)\n",
    "    \n",
    "    deparr = hours.groupby('dep-arr').sum()\n",
    "    print(deparr)\n",
    "    print(f\"total flights (dep+arr): {hours['per_hour'].sum()}\")\n",
    "\n",
    "    plt.figure(figsize=(10,5))\n",
    "    plt.title(title, fontsize=24)\n",
    "    ax = sns.barplot(data=hours,x='h',y='per_hour',hue='dep-arr')\n",
    "    ax.set_xlim(0,23)\n",
    "    labels = ax.get_xticklabels()\n",
    "    ax.set_xticklabels(labels, fontsize=8);  # supress output\n",
    "    plt.show()\n",
    "    return "
   ]
  },
  {
   "cell_type": "code",
   "execution_count": null,
   "id": "nominated-dialogue",
   "metadata": {},
   "outputs": [],
   "source": [
    "def per_hour_in_out(fsu_dep1, fsu_arr1, title=\"\"):\n",
    "    \"\"\"\n",
    "    Plot Number of flights actually departing and arriving per hour\n",
    "    \"\"\"\n",
    "    fsu_dep = fsu_dep1.copy()\n",
    "    fsu_arr = fsu_arr1.copy()\n",
    "    nb_days = fsu_dep['SCH_DEP_DTZ'].nunique()\n",
    "    print(\"nb_days= \", nb_days)\n",
    "    \n",
    "    tmz1 = u.series_to_time_components(pd.to_datetime(fsu_dep['OUT_DTMZ']))  ### Something wrong WRONG WRONG WRONG\n",
    "    \n",
    "    fsu_dep['h'] = tmz1['h'] \n",
    "    fsu_dep['mi'] = tmz1['mi']\n",
    "    fsu_dep['per_hour'] = fsu_dep.groupby('h')['FLT_NUM'].transform('size')  / nb_days\n",
    "    fsu_dep['dep-arr'] = 'dep'\n",
    "    #tot_num_dep = fsu_dep['per_hour'].sum()\n",
    "            \n",
    "    nb_days = fsu_arr['SCH_DEP_DTZ'].nunique()\n",
    "    tmz = u.series_to_time_components(pd.to_datetime(fsu_arr['IN_DTMZ']))\n",
    "    fsu_arr['h'] = tmz['h']\n",
    "    fsu_arr['mi'] = tmz['mi']\n",
    "    fsu_arr['per_hour'] = fsu_arr.groupby('h')['FLT_NUM'].transform('size')  / nb_days\n",
    "    fsu_arr['dep-arr'] = 'arr'\n",
    "    #tot_num_arr = fsu_arr['per_hour'].sum()\n",
    "    \n",
    "    #print(f\"tot num dep/arr: {tot_num_dep}/{tot_num_arr}\")\n",
    "    \n",
    "    fsu = pd.concat([fsu_dep, fsu_arr], axis=0)\n",
    "    \n",
    "    data = fsu[['per_hour','h','dep-arr']]\n",
    "    hours = data.groupby(['h','dep-arr'])['per_hour'].mean().reset_index() #to_frame('per_hour')\n",
    "# -5 to convert from Zulu to Panama time\n",
    "    hours['h'] = ((hours['h'] - 5 + 24) % 24)   # Convert to panama time from Zulu time\n",
    "    hours.sort_values('h', inplace=True)\n",
    "    \n",
    "    deparr = hours.groupby('dep-arr').sum()\n",
    "    print(deparr)\n",
    "    \n",
    "    print(f\"total flights (dep+arr): {hours['per_hour'].sum()}\")\n",
    "    \n",
    "    plt.figure(figsize=(10,5))\n",
    "    plt.title(title, fontsize=24)\n",
    "    ax = sns.barplot(data=hours,x='h',y='per_hour',hue='dep-arr')\n",
    "    ax.set_xlim(0,23)\n",
    "    labels = ax.get_xticklabels()\n",
    "    ax.set_xticklabels(labels, fontsize=8);  # supress output\n",
    "    plt.show()\n",
    "    return"
   ]
  },
  {
   "cell_type": "code",
   "execution_count": null,
   "id": "pacific-carroll",
   "metadata": {},
   "outputs": [],
   "source": [
    "per_hour(fsu_oneday_dep, fsu_oneday_arr, \"Scheduled departure/arrival times\")\n",
    "cols = ['SCH_DEP_DTZ','FLT_NUM','IN_DTMZ','OUT_DTMZ']\n",
    "fsu_oneday_dep[cols].columns\n",
    "per_hour_in_out(fsu_oneday_dep[cols], fsu_oneday_arr[cols], title=\"Actual departure/arrival times\")"
   ]
  },
  {
   "cell_type": "markdown",
   "id": "aggressive-relationship",
   "metadata": {},
   "source": [
    "## Observations\n",
    "* How can the total flights (dep+arr) have a fractional component? There must be an error. \n",
    "    * Why? I am averging over a single day, so fractions can not possibly occur. \n",
    "* The total number of scheduled departures+arrivals in one day is 241.5 (avg of 14 flights per hour throughout the day)\n",
    "* The total number of actual departures an arrivals+departures in one day is also 241.5 . That is consistent."
   ]
  },
  {
   "cell_type": "markdown",
   "id": "colored-fight",
   "metadata": {},
   "source": [
    "* This plot looks much better. \n",
    "* Arrivals are no longer equal to departures\n",
    "* Several errors were fixed\n",
    "* However, it seems like there are far more departures than arrivals. \n",
    "    * We need to check this  (THERE WERE IN FACT ERRORS)\n",
    "* There are very few deparatures at 1 and 2 pm. Very few at 10 and 11 pm\n",
    "* There a low number of flights around 4 and 5 pm (either arrival or departure)"
   ]
  },
  {
   "cell_type": "code",
   "execution_count": null,
   "id": "tribal-senator",
   "metadata": {},
   "outputs": [],
   "source": [
    "fsu_oneday_dep.shape, fsu_oneday_arr.shape"
   ]
  },
  {
   "cell_type": "markdown",
   "id": "assured-birth",
   "metadata": {},
   "source": [
    "Clearly, the number of departures should be approximately equal to the number of arrivals. Why? Because PTY is a hub!\n",
    "* Next step: break down time in 15 in increments\n",
    "* Eventually, break down time in 5 min incremements\n",
    "    * We will need to add time slots for which there are no flights"
   ]
  },
  {
   "cell_type": "code",
   "execution_count": null,
   "id": "numerous-syntax",
   "metadata": {},
   "outputs": [],
   "source": [
    "def per_15min(fsu_dep1, fsu_arr1, title=\"\"):\n",
    "    fsu_dep = fsu_dep1.copy()\n",
    "    fsu_arr = fsu_arr1.copy()\n",
    "    #fsu.loc[:,'dep-arr'] = 'dep'\n",
    "    #fsu.loc[fsu['OD'].str[3:6] == 'PTY', 'dep-arr'] = 'arr'\n",
    "    #data.loc[:,'dep-arr'] = fsu.loc[:,'dep-arr']\n",
    "    nb_days = fsu_dep['SCH_DEP_DTZ'].nunique()\n",
    "    nb_days = 1\n",
    "    \n",
    "    tmz = u.series_to_time_components(fsu_dep['SCH_DEP_TMZ'])\n",
    "    #fsu_dep['h'] = tmz['h'].copy()\n",
    "    fsu_dep['mi'] = tmz['mi'].copy()\n",
    "    fsu_dep['15min'] = (tmz['h']*60+tmz['mi']) // 15\n",
    "    fsu_dep['per_15min'] = fsu_dep.groupby('15min')['FLT_NUM'].transform('size')  / nb_days\n",
    "    fsu_dep['dep-arr'] = 'dep'\n",
    "    tot_num_dep = fsu_dep['per_15min'].sum()\n",
    "            \n",
    "    nb_days = fsu_arr['SCH_DEP_DTZ'].nunique()\n",
    "    nb_days = 1\n",
    "    \n",
    "    tmz = u.series_to_time_components(fsu_arr['SCH_ARR_TMZ'])\n",
    " \n",
    "    #fsu_arr['h'] = tmz['h'].copy()\n",
    "    fsu_arr['mi'] = tmz['mi'].copy()\n",
    "    fsu_arr['15min'] = (tmz['h']*60+tmz['mi']) // 15\n",
    "    \n",
    "    fsu_arr['per_hour'] = fsu_arr.groupby('h')['FLT_NUM'].transform('size')  / nb_days\n",
    "    fsu_arr['per_15min'] = fsu_arr.groupby('15min')['FLT_NUM'].transform('size')  / nb_days\n",
    "    fsu_arr['dep-arr'] = 'arr'\n",
    "    tot_num_arr = fsu_arr['per_15min'].sum()\n",
    "    \n",
    "    print(f\"tot num dep/arr: {tot_num_dep}/{tot_num_arr}\")\n",
    "    \n",
    "    fsu = pd.concat([fsu_dep, fsu_arr], axis=0)\n",
    "    \n",
    "    data = fsu[['per_15min','15min','dep-arr']]\n",
    "    hours = data.groupby(['15min','dep-arr'])['per_15min'].mean().reset_index() #to_frame('per_hour')\n",
    "    # -5 to convert from Zulu to Panama time\n",
    "    #hours['h'] = ((hours['h'] - 5 + 24) % 24)   # Convert to panama time\n",
    "    hours['15min'] = ((hours['15min'] - 5*4 + 24*4) % (24*4)) / 4  # Convert to panama time\n",
    "    hours.sort_values('15min', inplace=True)\n",
    "    \n",
    "    deparr = hours.groupby('dep-arr').sum()\n",
    "    print(deparr)\n",
    "    \n",
    "    print(f\"total flights (dep+arr): {hours['per_15min'].sum()}\")\n",
    "    \n",
    "    plt.figure(figsize=(18,5))\n",
    "    plt.title(title, fontsize=24)\n",
    "    ax = sns.barplot(data=hours,x='15min',y='per_15min',hue='dep-arr')\n",
    "    ax.set_xlim(0,23*4)\n",
    "    labels = ax.get_xticklabels()\n",
    "    ax.set_xticklabels(labels, fontsize=8);  # supress output\n",
    "    plt.xticks(rotation=45)\n",
    "    plt.show()\n",
    "    return "
   ]
  },
  {
   "cell_type": "code",
   "execution_count": null,
   "id": "warming-gregory",
   "metadata": {},
   "outputs": [],
   "source": [
    "def per_15min_in_out(fsu_dep1, fsu_arr1, title=\"\"):\n",
    "    fsu_dep = fsu_dep1.copy()\n",
    "    fsu_arr = fsu_arr1.copy()\n",
    "    #fsu.loc[:,'dep-arr'] = 'dep'\n",
    "    #fsu.loc[fsu['OD'].str[3:6] == 'PTY', 'dep-arr'] = 'arr'\n",
    "    #data.loc[:,'dep-arr'] = fsu.loc[:,'dep-arr']\n",
    "    nb_days = fsu_dep['SCH_DEP_DTZ'].nunique()\n",
    "    #nb_days = 1\n",
    " \n",
    "    #tmz = u.series_to_time_components(fsu_dep['SCH_DEP_TMZ'])\n",
    "    tmz = u.series_to_time_components(pd.to_datetime(fsu_dep['OUT_DTMZ']))  ### Something wrong WRONG WRONG WRONG\n",
    "    #fsu_dep['h'] = tmz['h'].copy()\n",
    "    fsu_dep['mi'] = tmz['mi'].copy()\n",
    "    fsu_dep['15min'] = (tmz['h']*60+tmz['mi']) // 15\n",
    "    fsu_dep['per_15min'] = fsu_dep.groupby('15min')['FLT_NUM'].transform('size')  / nb_days\n",
    "    fsu_dep['dep-arr'] = 'dep'\n",
    "    tot_num_dep = fsu_dep['per_15min'].sum()\n",
    "            \n",
    "    nb_days = fsu_arr['SCH_DEP_DTZ'].nunique()\n",
    "    #nb_days = 1\n",
    "    \n",
    "    tmz = u.series_to_time_components(pd.to_datetime(fsu_arr['IN_DTMZ']))  ### Something wrong WRONG WRONG WRONG\n",
    "    #tmz = u.series_to_time_components(fsu_arr['SCH_ARR_TMZ'])\n",
    "    #fsu_arr['h'] = tmz['h'].copy()\n",
    "    fsu_arr['mi'] = tmz['mi'].copy()\n",
    "    fsu_arr['15min'] = (tmz['h']*60+tmz['mi']) // 15\n",
    "    \n",
    "    fsu_arr['per_hour'] = fsu_arr.groupby('h')['FLT_NUM'].transform('size')  / nb_days\n",
    "    fsu_arr['per_15min'] = fsu_arr.groupby('15min')['FLT_NUM'].transform('size')  / nb_days\n",
    "    fsu_arr['dep-arr'] = 'arr'\n",
    "    tot_num_arr = fsu_arr['per_15min'].sum()\n",
    "    \n",
    "    print(f\"tot num dep/arr: {tot_num_dep}/{tot_num_arr}\")\n",
    "    \n",
    "    fsu = pd.concat([fsu_dep, fsu_arr], axis=0)\n",
    "    \n",
    "    data = fsu[['per_15min','15min','dep-arr']]\n",
    "    hours = data.groupby(['15min','dep-arr'])['per_15min'].mean().reset_index() #to_frame('per_hour')\n",
    "    # -5 to convert from Zulu to Panama time\n",
    "    #hours['h'] = ((hours['h'] - 5 + 24) % 24)   # Convert to panama time\n",
    "    hours['15min'] = ((hours['15min'] - 5*4 + 24*4) % (24*4)) / 4  # Convert to panama time\n",
    "    hours.sort_values('15min', inplace=True)\n",
    "    \n",
    "    deparr = hours.groupby('dep-arr').sum()\n",
    "    print(deparr)\n",
    "    \n",
    "    print(f\"total flights (dep+arr): {hours['per_15min'].sum()}\")\n",
    "\n",
    "    plt.figure(figsize=(18,5))\n",
    "    plt.title(title, fontsize=24)\n",
    "    ax = sns.barplot(data=hours,x='15min',y='per_15min',hue='dep-arr')\n",
    "    ax.set_xlim(0,23*4)\n",
    "    labels = ax.get_xticklabels()\n",
    "    ax.set_xticklabels(labels, fontsize=8);  # supress output\n",
    "    plt.xticks(rotation=45)\n",
    "    plt.show()\n",
    "    return "
   ]
  },
  {
   "cell_type": "code",
   "execution_count": null,
   "id": "worthy-annual",
   "metadata": {},
   "outputs": [],
   "source": [
    "per_15min(fsu_oneday_dep, fsu_oneday_arr, title=\"Scheduled departure/arrivals, 15 min bins\")\n",
    "per_15min_in_out(fsu_oneday_dep, fsu_oneday_arr,\"Actual departure/arrivals, 15 min bins\")"
   ]
  },
  {
   "cell_type": "markdown",
   "id": "filled-middle",
   "metadata": {},
   "source": [
    "## Observations on the departures/arrivals plots\n",
    "* Here are 15 min bins. Above was 1 hour bins. \n",
    "* You notice that the actual departures and arrivals have overlaps at certain times of the day. \n",
    "* I wonder if the TAXI_IN and TAXI_OUT times are also longer than usual on the flights on that particular day during these congestion days. \n",
    "* It does look like COPA tries to avoid departures and arrivals during the same time period in order to improve the traffic flow on the runways perhaps? I assume that if all planes go in a single direction (arrivals or departures) that flow management is simpler? For example, you can have more planes leave at the same time. \n",
    "* I like these plots. \n",
    "* On reflection, I must check whether the sum of all flights on both plots is the same. It does not appear to be the case. It \"looks\" like there are less arrivals on the bottom plot. I now have to check this. "
   ]
  },
  {
   "cell_type": "markdown",
   "id": "criminal-commonwealth",
   "metadata": {},
   "source": [
    "## Number of flights (departure + arrivals) is now computed.\n",
    "* I find 241.5 actual departures/arrivals (in 15min increments)\n",
    "* I find 321 scheduled departures/arrivals (in 15 min increments)\n",
    "* I conclude that since the total number of flights is 241.5 when using hourly bins, that something must be wrong with the schdeuled flights in 15min increments. \n",
    "* Although it is possible that the total number of flights might be different when comparing scheduled and actual flights (e.g., a flight scheduled to land late at night might actually land the next morning, and a flight might actually arrive early in the morning that was not scheduled for that morning), these should be low in number. However, it should be remembered that delays are highest at the end of the day. "
   ]
  },
  {
   "cell_type": "markdown",
   "id": "expected-jesus",
   "metadata": {},
   "source": [
    "## Found a first bug\n",
    "* I was adding up the wrong data\n",
    "* I still have not figured out the fractional value point issue, but it has to do with using the 'per_hour' column, instead of the 'hour' column for aggregation"
   ]
  },
  {
   "cell_type": "markdown",
   "id": "polished-precipitation",
   "metadata": {},
   "source": [
    "### At this stage, I should consolidate the four functions above into a single function to minimize propagation of errors\n",
    "* We will start with scheduled time. My expectations are as followed (from a diagnostic point of view): \n",
    "    * the total number of arrivals and departures should be integer values\n",
    "    * the total number of arrivals and departures should be the same whether binning per hour or per 15 min\n",
    "* I created the function `per_interval`,    took almost a full day to create and debug"
   ]
  },
  {
   "cell_type": "markdown",
   "id": "joint-registrar",
   "metadata": {},
   "source": [
    "## Features of per_interval function in util_functions.py\n",
    "* can specify a range of dates\n",
    "* can specify Zulu or PTY time zone \n",
    "* can specify either SCHED or ACTUAL time\n",
    "* can specify to show only flights with delays in a specified range"
   ]
  },
  {
   "cell_type": "code",
   "execution_count": null,
   "id": "funky-price",
   "metadata": {},
   "outputs": [],
   "source": [
    "f, ax = plt.subplots(figsize=(10,3))\n",
    "u.per_interval(fsu, desired_timezone='PTY', kind='SCHED', date='2020-02-13', bin_size=60, title=\"\", ax=ax)\n",
    "f, ax = plt.subplots(figsize=(10,3))\n",
    "u.per_interval(fsu, desired_timezone='PTY', kind='SCHED', date='2020-02-13', bin_size=15, title=\"\", ax=ax)\n",
    "f, ax = plt.subplots(figsize=(10,3))\n",
    "u.per_interval(fsu, desired_timezone='PTY', kind='SCHED', date='2020-02-13', bin_size=5, title=\"\", ax=ax)"
   ]
  },
  {
   "cell_type": "code",
   "execution_count": null,
   "id": "marine-wheel",
   "metadata": {},
   "outputs": [],
   "source": [
    "f, axes = plt.subplots(3,2, figsize=(20,8))\n",
    "pd.options.mode.chained_assignment = None  # 'warn', 'raise'\n",
    "plt.suptitle(\"Number of Departing and Arriving flights per \\nunit time, 2020-02-13\", fontsize=24)\n",
    "u.per_interval(fsu, desired_timezone='PTY', kind='SCHED', bin_size=60, title=\"SCHED, 60min bins\", date='2020-02-13', ax=axes[0,0])\n",
    "u.per_interval(fsu, desired_timezone='PTY', kind='SCHED', bin_size=15, title=\"SCHED, 15min bins\", date='2020-02-13', ax=axes[1,0])\n",
    "u.per_interval(fsu, desired_timezone='PTY', kind='SCHED', bin_size=5, title=\"SCHED, 5min bins\", date='2020-02-13', ax=axes[2,0])\n",
    "u.per_interval(fsu, desired_timezone='PTY', kind='ACTUAL', bin_size=60, title=\"ACTUAL, 60min bins\", date='2020-02-13', ax=axes[0,1])\n",
    "u.per_interval(fsu, desired_timezone='PTY', kind='ACTUAL', bin_size=15, title=\"ACTUAL, 15min bins\", date='2020-02-13', ax=axes[1,1])\n",
    "u.per_interval(fsu, desired_timezone='PTY', kind='ACTUAL', bin_size=5, title=\"ACTUAL, 5min bins\", date='2020-02-13', ax=axes[2,1])\n",
    "pd.options.mode.chained_assignment = 'raise'  # 'warn', 'raise'\n",
    "plt.tight_layout()"
   ]
  },
  {
   "cell_type": "code",
   "execution_count": null,
   "id": "intended-reservoir",
   "metadata": {
    "tags": []
   },
   "outputs": [],
   "source": [
    "f, axes = plt.subplots(3,2, figsize=(20,8))\n",
    "pd.options.mode.chained_assignment = None  # 'warn', 'raise'\n",
    "plt.suptitle(\"Number of Departing and Arriving flights per \\nunit time, 2020-02-13\", fontsize=24)\n",
    "dates=('2019-10-01','2020-03-01')\n",
    "u.per_interval(fsu, desired_timezone='PTY', kind='SCHED', bin_size=60, title=\"SCHED, 60min bins\", ax=axes[0,0], daterange=dates)\n",
    "u.per_interval(fsu, desired_timezone='PTY', kind='SCHED', bin_size=15, title=\"SCHED, 15min bins\", ax=axes[1,0], daterange=dates)\n",
    "u.per_interval(fsu, desired_timezone='PTY', kind='SCHED', bin_size=5, title=\"SCHED, 5min bins\", ax=axes[2,0], daterange=dates)\n",
    "u.per_interval(fsu, desired_timezone='PTY', kind='ACTUAL', bin_size=60, title=\"ACTUAL, 60min bins\", ax=axes[0,1], daterange=dates)\n",
    "u.per_interval(fsu, desired_timezone='PTY', kind='ACTUAL', bin_size=15, title=\"ACTUAL, 15min bins\", ax=axes[1,1], daterange=dates)\n",
    "u.per_interval(fsu, desired_timezone='PTY', kind='ACTUAL', bin_size=5, title=\"ACTUAL, 5min bins\", ax=axes[2,1], daterange=dates)\n",
    "pd.options.mode.chained_assignment = 'raise'  # 'warn', 'raise'\n",
    "plt.tight_layout()"
   ]
  },
  {
   "cell_type": "markdown",
   "id": "opponent-crystal",
   "metadata": {},
   "source": [
    "## Observations\n",
    "* Scheduled departure/arrivals:  160/162  (makes sense)\n",
    "* Actual departure/arrivals:  159/162  (makes sense)\n",
    "* I have no idea what the previous errors were, but the moral of the story: \n",
    "    * Create more general routines that apply to more cases instead of many specialized routines\n",
    "    * Stated differently: try not to duplicate code. \n",
    "    * Increase reusability\n",
    "\n",
    "* Discrepencies between scheduled and actual can be seen around 7:30 am departures, and around 8 pm. \n",
    "* It would be useful to either :\n",
    "    * plot only the flights with over 15 positive delays (on arrival or departure)\n",
    "    * plot the difference in flights per hour between SCHED and ACTUAL\n",
    "    * correlate these plots with bank activity (perhaps via color?). "
   ]
  },
  {
   "cell_type": "code",
   "execution_count": null,
   "id": "bound-blues",
   "metadata": {},
   "outputs": [],
   "source": [
    "dates = ('2019-10-01', '2020-03-01')\n",
    "f, axes = plt.subplots(2,2,figsize=(20,7))\n",
    "u.per_interval(fsu, desired_timezone='PTY', kind='ACTUAL', bin_size=5, daterange=dates, \n",
    "              title=\"All flights, 5min bins\", ax=axes[0,0])\n",
    "u.per_interval(fsu, desired_timezone='PTY', kind='ACTUAL', min_delay=15, \n",
    "               max_delay=45, bin_size=5, daterange=dates, title=\"Delays in [15,45], 5min bins\", ax=axes[0,1])\n",
    "u.per_interval(fsu, desired_timezone='PTY', kind='ACTUAL', min_delay=15,  bin_size=5, \n",
    "               daterange=dates, title=\"Delays in [15,inf], 5min bins\", ax=axes[1,0])\n",
    "u.per_interval(fsu, desired_timezone='PTY', kind='ACTUAL', min_delay=45,  bin_size=5, \n",
    "               daterange=dates, title=\"Delays in [45,inf], 5min bins\", ax=axes[1,1])\n",
    "plt.tight_layout()"
   ]
  },
  {
   "cell_type": "code",
   "execution_count": null,
   "id": "moving-istanbul",
   "metadata": {},
   "outputs": [],
   "source": [
    "dates = ('2019-12-20', '2020-01-10')\n",
    "f, axes = plt.subplots(2,2,figsize=(20,7))\n",
    "u.per_interval(fsu, desired_timezone='PTY', kind='ACTUAL', bin_size=5, daterange=dates, \n",
    "              title=\"All flights, 5min bins\", ax=axes[0,0])\n",
    "u.per_interval(fsu, desired_timezone='PTY', kind='ACTUAL', min_delay=15, \n",
    "               max_delay=45, bin_size=5, daterange=dates, title=\"Delays in [15,45], 5min bins\", ax=axes[0,1])\n",
    "u.per_interval(fsu, desired_timezone='PTY', kind='ACTUAL', min_delay=15,  bin_size=5, \n",
    "               daterange=dates, title=\"Delays in [15,inf], 5min bins\", ax=axes[1,0])\n",
    "u.per_interval(fsu, desired_timezone='PTY', kind='ACTUAL', min_delay=45,  bin_size=5, \n",
    "               daterange=dates, title=\"Delays in [45,inf], 5min bins\", ax=axes[1,1])\n",
    "plt.tight_layout()"
   ]
  },
  {
   "cell_type": "code",
   "execution_count": null,
   "id": "arranged-plymouth",
   "metadata": {},
   "outputs": [],
   "source": [
    "dates = ('2019-12-20', '2019-12-20')\n",
    "f, axes = plt.subplots(2,2,figsize=(20,7))\n",
    "u.per_interval(fsu, desired_timezone='PTY', kind='ACTUAL', bin_size=5, daterange=dates, \n",
    "              title=\"All flights, 5min bins\", ax=axes[0,0])\n",
    "u.per_interval(fsu, desired_timezone='PTY', kind='ACTUAL', min_delay=15, \n",
    "               max_delay=45, bin_size=5, daterange=dates, title=\"Delays in [15,45], 5min bins\", ax=axes[0,1])\n",
    "u.per_interval(fsu, desired_timezone='PTY', kind='ACTUAL', min_delay=15,  bin_size=5, \n",
    "               daterange=dates, title=\"Delays in [15,inf], 5min bins\", ax=axes[1,0])\n",
    "u.per_interval(fsu, desired_timezone='PTY', kind='ACTUAL', min_delay=45,  bin_size=5, \n",
    "               daterange=dates, title=\"Delays in [45,inf], 5min bins\", ax=axes[1,1])\n",
    "plt.tight_layout()"
   ]
  },
  {
   "cell_type": "code",
   "execution_count": null,
   "id": "formed-commander",
   "metadata": {},
   "outputs": [],
   "source": [
    "dates = ('2020-01-10', '2020-01-10')\n",
    "f, axes = plt.subplots(2,2,figsize=(20,7))\n",
    "u.per_interval(fsu, desired_timezone='PTY', kind='ACTUAL', bin_size=5, daterange=dates, \n",
    "              title=\"All flights, 5min bins\", ax=axes[0,0])\n",
    "u.per_interval(fsu, desired_timezone='PTY', kind='ACTUAL', min_delay=15, \n",
    "               max_delay=45, bin_size=5, daterange=dates, title=\"Delays in [15,45], 5min bins\", ax=axes[0,1])\n",
    "u.per_interval(fsu, desired_timezone='PTY', kind='ACTUAL', min_delay=15,  bin_size=5, \n",
    "               daterange=dates, title=\"Delays in [15,inf], 5min bins\", ax=axes[1,0])\n",
    "u.per_interval(fsu, desired_timezone='PTY', kind='ACTUAL', min_delay=45,  bin_size=5, \n",
    "               daterange=dates, title=\"Delays in [45,inf], 5min bins\", ax=axes[1,1])\n",
    "plt.tight_layout()"
   ]
  },
  {
   "cell_type": "markdown",
   "id": "olympic-festival",
   "metadata": {},
   "source": [
    "## Observations\n",
    "* The four plots: \n",
    "    * top-left: all actual departures and arrival times: nb flights per hour\n",
    "    * top-right: delays 45 min and above\n",
    "    * bottom-left: delays 15 min and above\n",
    "    * bottom-right: delays 45 min and above\n",
    "* Beware: the scale of the vertical axes changes. \n",
    "* Observe in the bottom right: that te delays are higher at the end of day. \n",
    "* However: the delays between 15 and 45 min are highest between 2 and 3 pm. \n",
    "* You should know that these are not two plots (arr and dep) superimposed on top of each other. \n",
    "* Rather, at each bin, there are two bars (side by side): one for arrivals and one for departures. \n",
    "* This might be important to know for proper interpretation; this is more visible on the hourly and 15 min charts. \n",
    "* Long time frames provides prior probability distributions. \n",
    "* However, it is important to know how these results change as the time-interval captured is decreased, since ultimately, Copa is interested on making decisions for individual flights, taking into accounts other flights within say, a three hour window on the network immediately connected to the plane for which a decision is necessary."
   ]
  },
  {
   "cell_type": "markdown",
   "id": "balanced-chart",
   "metadata": {},
   "source": [
    "# I have reached this point, 2021-04-25,11.26pm\n",
    "# I have reached this point, 2021-04-25,11.26pm\n",
    "# I have reached this point\n",
    "# I have reached this point"
   ]
  },
  {
   "cell_type": "markdown",
   "id": "expected-endorsement",
   "metadata": {},
   "source": [
    "## Observations\n",
    "* I am not convinced that there only 50 flights per day. There should be 350 flights per day."
   ]
  },
  {
   "cell_type": "markdown",
   "id": "popular-clone",
   "metadata": {},
   "source": [
    "## Observations\n",
    "* The thinner lines are due to \"aliasing\"\n",
    "* It means that the bins are too small, or the plot not wide enough\n",
    "* Why are delays clustered around 2 pm, mostly if not all on arrival? \n",
    "* Why is there an arrival delay cluster around 6 am? These must come from the previous evening. \n",
    "    * Therefore, plot delays greater than 45 min and see if they appear in the morning arrivals. "
   ]
  },
  {
   "cell_type": "markdown",
   "id": "checked-ordinance",
   "metadata": {},
   "source": [
    "# Something is still wrong. Flights disappear when I change binning"
   ]
  },
  {
   "cell_type": "code",
   "execution_count": null,
   "id": "polyphonic-canada",
   "metadata": {},
   "outputs": [],
   "source": [
    "f, axes = plt.subplots(1,1, figsize=(20,3))\n",
    "u.per_interval(fsu, kind='ACTUAL', desired_timezone='PTY',min_delay=-100, bin_size=5, title=\"Delay in [15,inf], 5min bins, [2019-12-19 to 2020-01-15]\", daterange=('2019-12-19','2020-01-15'), ax=axes)"
   ]
  },
  {
   "cell_type": "code",
   "execution_count": null,
   "id": "sophisticated-reset",
   "metadata": {},
   "outputs": [],
   "source": []
  },
  {
   "cell_type": "markdown",
   "id": "disturbed-psychology",
   "metadata": {},
   "source": [
    "## Observations\n",
    "* The delays on arrival early in the morning are mostly less than 45 min. \n",
    "* Conclusion they come from international flights? \n",
    "* It is possible that stacked barcharts might be better. But they are hard to compare quantitatively with each other. \n",
    "    * The issue is that the range corresponding to each bar is difficult to see when doing detailed analysis\n",
    "* The list above has 16 entries. However, there are 19 flights on the chart above\n",
    "    * Is this an error? \n",
    "    * Note that I am using DTMZ times. PTY is 5 hours ahead. 12:00 DTZ is 5:00 DTL\n",
    "    * I search the flights to include in the chart based on DTMZ. But I plot the results in PTY time. \n",
    "    * A flight arriving at 9 pm Zulu on 2020-01-15 , would actually be arriving at 2 am PTY time the next day and would be excluded from the plot\n",
    "    * On the other hand, a flight arriving at 9 pm Zulu on 2019-12-18 (outside the date range) would appear on this plot. \n",
    "    * To fix the problem requires transforming from Zulu to DTML/PTY PRIOR to performing the record search (WE WON'T DO THIS HERE)\n",
    "    * The fix is easy since I store datetimes in nanoseconds: 5 hours = 3600*1e9 = 36e11 nanoseconds. Just add that to the integer and convert back\n",
    "* Add some more arguments to the function: timezone=['Zulu','PTY'] with default 'Zulu'"
   ]
  },
  {
   "cell_type": "code",
   "execution_count": null,
   "id": "affected-strain",
   "metadata": {},
   "outputs": [],
   "source": [
    "pwd()"
   ]
  },
  {
   "cell_type": "code",
   "execution_count": null,
   "id": "severe-latino",
   "metadata": {},
   "outputs": [],
   "source": [
    "f, axes = plt.subplots(1,1, figsize=(20,3))\n",
    "u.per_interval(fsu, kind='SCHED', min_delay=None, bin_size=60, desired_timezone='PTY', title=\"Delay in [5,inf], [2019-12-19 to 2020-01-15]\", daterange=('2020-02-13','2020-02-13'), ax=axes)"
   ]
  },
  {
   "cell_type": "code",
   "execution_count": null,
   "id": "nervous-bouquet",
   "metadata": {},
   "outputs": [],
   "source": [
    "f, axes = plt.subplots(1,1, figsize=(20,3))\n",
    "u.per_interval(fsu, kind='ACTUAL', min_delay=None, bin_size=1, desired_timezone='PTY', title=\"Actual flights [-Inf,inf], [2019-12-19 to 2020-01-15]\", daterange=('2020-02-13','2020-02-13'), ax=axes)"
   ]
  },
  {
   "cell_type": "code",
   "execution_count": null,
   "id": "rural-species",
   "metadata": {},
   "outputs": [],
   "source": []
  }
 ],
 "metadata": {
  "kernelspec": {
   "display_name": "Python 3",
   "language": "python",
   "name": "python3"
  },
  "language_info": {
   "codemirror_mode": {
    "name": "ipython",
    "version": 3
   },
   "file_extension": ".py",
   "mimetype": "text/x-python",
   "name": "python",
   "nbconvert_exporter": "python",
   "pygments_lexer": "ipython3",
   "version": "3.9.2"
  },
  "widgets": {
   "application/vnd.jupyter.widget-state+json": {
    "state": {},
    "version_major": 2,
    "version_minor": 0
   }
  }
 },
 "nbformat": 4,
 "nbformat_minor": 5
}
