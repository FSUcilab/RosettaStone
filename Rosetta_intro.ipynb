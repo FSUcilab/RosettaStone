{
 "cells": [
  {
   "cell_type": "markdown",
   "id": "quarterly-somerset",
   "metadata": {},
   "source": [
    "# Rosetta Stone\n",
    "* My environment\n",
    "* How to perform data exploration in Python and Julia. \n",
    "* Cleaning the data\n",
    "* Searching for inconsistencies\n",
    "* Searching for outliers\n",
    "* Handling a new dataset\n",
    "* Working in Julia and Python"
   ]
  },
  {
   "cell_type": "markdown",
   "id": "accomplished-sharing",
   "metadata": {},
   "source": [
    "## File paths\n",
    "* The file path depends on the Python environment and on the contents of the sys.path variable"
   ]
  },
  {
   "cell_type": "markdown",
   "id": "filled-findings",
   "metadata": {},
   "source": [
    "# Data Science Workflows\n",
    "* Starting point: one of more tables of data\n",
    "    * Large number of columns\n",
    "    * Large number of rows\n",
    "\n",
    "# Challenges\n",
    "* Understand the data \n",
    "* Understand what is there and what is absent\n",
    "* Extract relationships and patterns\n",
    "* How to reduce the amount of data\n",
    "* Simplify models without losing analysis power\n",
    "* Develop models to cluster, predict, classify, infer\n",
    "* Develop data reduction techniques\n",
    "    * leads to proxy models\n",
    "    * data generation models to augment data"
   ]
  },
  {
   "cell_type": "markdown",
   "id": "radical-progressive",
   "metadata": {},
   "source": [
    "# Languages\n",
    "## Python\n",
    "* Intermediate compilation\n",
    "* Mostly typeless\n",
    "* The dominant language in Data Science\n",
    "* General Language\n",
    "* Strong in AI, deep learning\n",
    "* 250,000 packages\n",
    "\n",
    "## R\n",
    "* Language of Statisticians\n",
    "* Very strong for probabilistic models and inference\n",
    "* Not a full language\n",
    "* Much less widespread than Python\n",
    "* Created in 1989\n",
    "* 65000 packages\n",
    "\n",
    "## Julia \n",
    "* Created in 2009\n",
    "* Typed\n",
    "* Functional language\n",
    "* Disptch functions, very powerful\n",
    "* Built-in parallelism, threading, GPU programming\n",
    "* Ease and generalizty of Python, speed with 50% of C and Fortran\n",
    "* 16,000 modules/libraries\n",
    "\n",
    "## Knime\n",
    "* Used at Copa\n",
    "* Flow-charting\n",
    "* No commandline programming\n",
    "* Wide selection of modules\n",
    "* Strong community\n",
    "* Can incorporate R and Python modules\n",
    "\n",
    "## Alteryx\n",
    "* Used at Copa"
   ]
  },
  {
   "cell_type": "markdown",
   "id": "another-penalty",
   "metadata": {},
   "source": [
    "## No Language is good for all tasks\n",
    "* Visual program good for quick prototyping\n",
    "* Working within available modules and workflows\n",
    "* Python and Julia are full languages and very flexible\n",
    "* Python very useful for modeling, simulations, and everything else"
   ]
  },
  {
   "cell_type": "markdown",
   "id": "maritime-cooler",
   "metadata": {},
   "source": [
    "## Use the tool most appropriate to the job\n",
    "* Strongly depends on experience and knowledge\n",
    "* Advantageous to know multiple languages\n",
    "* Do not be afraid to mix different languages"
   ]
  },
  {
   "cell_type": "markdown",
   "id": "special-detection",
   "metadata": {},
   "source": [
    "# What we will cover\n",
    "* We will work in Python and Julia to constrast the languages\n",
    "\n",
    "## Importing the Data\n",
    "* From csv, tbl,  txt files\n",
    "* From binary files\n",
    "* From external databases\n",
    "* From the internet\n",
    "\n",
    "## Cleaning the data\n",
    "* Missing Values\n",
    "* String cleaning, capitalization, trimming\n",
    "* Type conversions\n",
    "* Date breakup in month/year/day/hour/minute\n",
    "\n",
    "## First Examination\n",
    "### Categorical Data\n",
    "* Frequency Tables (1d and 2D)\n",
    "* Correlations (2D and higher)\n",
    "* Bar Charts (1D, 2D and higher)\n",
    "\n",
    "### Continuous Data\n",
    "* Histograms (1D)\n",
    "* Box Plots  (1D)\n",
    "* Scattergrams\n",
    "* Correlation Matrix\n",
    "\n",
    "## Continuous versus discrete data\n",
    "* Box plots by category"
   ]
  },
  {
   "cell_type": "markdown",
   "id": "monetary-airline",
   "metadata": {},
   "source": [
    "# Peals of Wisdom\n",
    "## Minimize assumptoins in early phases of exploration\n",
    "* Not doing so introduces biases in the model that can distort the reuslts\n",
    "\n",
    "## Plot the same data multiple ways\n",
    "* to confirm that patterns are what they look like\n",
    "    * Compare coin viewed on edge and from the front. Same object, different representations\n",
    "\n",
    "## Calculate the same quantity at least two ways\n",
    "\n",
    "## Always question the results\n",
    "* Trust but verify\n",
    "* Try to \"break\" results obtained\n",
    "* Try and explain results obtained\n",
    "* Extract information from every chart\n",
    "\n",
    "## More data is always better\n",
    "* The challenge: what to keep \n",
    "    * Depends on the task\n",
    "    * Two cases: \n",
    "        * Many variables\n",
    "        * Lots of observations\n",
    "* More data requires intelligence to avoid excessive computation\n",
    "* Know how to sample data for faster calculations\n",
    "* Identify relationships between variables"
   ]
  },
  {
   "cell_type": "markdown",
   "id": "sublime-little",
   "metadata": {},
   "source": [
    "# Specializing to Copa\n",
    "## Work with FSU table\n",
    "* Contains Operational data\n",
    "* For each flight: plane, flight, arrival, departure, rotation characteristics"
   ]
  },
  {
   "cell_type": "markdown",
   "id": "finnish-wichita",
   "metadata": {},
   "source": [
    "## Step to take\n",
    "### Examine the following variables\n",
    "* Number arrivals and departures\n",
    "* Number of flights\n",
    "* (deparatures - arrivals) per unit time\n",
    "* Pax (from a different table)\n",
    "\n",
    "### Aggregagte\n",
    "* By month, day, day of week, hour, increments of 15 min, by Bank\n",
    "\n",
    "### Automate\n",
    "* When many plots are expected to be similar, create functions: \n",
    "\n",
    "```python\n",
    "def plot(df=..., cols=[...], xlab=..., ylab=..., title=..., type= ...):\n",
    "    return ...\n",
    "```\n",
    "* Put these functions into a low level function. \n",
    "    * For example: [util_functions.py](file/src/copa/util_function.py)"
   ]
  },
  {
   "cell_type": "markdown",
   "id": "copyrighted-syntax",
   "metadata": {},
   "source": [
    "# Visualization\n",
    "Within the Python Ecosystem, the basic approaches to plotting are: \n",
    "    * matplotlib\n",
    "    * seaborn\n",
    "    * pandas plotting\n",
    "    * Altair\n",
    "    * Vega and Vega-lite"
   ]
  },
  {
   "cell_type": "code",
   "execution_count": null,
   "id": "third-plaintiff",
   "metadata": {},
   "outputs": [],
   "source": []
  }
 ],
 "metadata": {
  "kernelspec": {
   "display_name": "Python 3",
   "language": "python",
   "name": "python3"
  },
  "language_info": {
   "codemirror_mode": {
    "name": "ipython",
    "version": 3
   },
   "file_extension": ".py",
   "mimetype": "text/x-python",
   "name": "python",
   "nbconvert_exporter": "python",
   "pygments_lexer": "ipython3",
   "version": "3.9.2"
  },
  "toc-autonumbering": true,
  "toc-showmarkdowntxt": false,
  "widgets": {
   "application/vnd.jupyter.widget-state+json": {
    "state": {},
    "version_major": 2,
    "version_minor": 0
   }
  }
 },
 "nbformat": 4,
 "nbformat_minor": 5
}
