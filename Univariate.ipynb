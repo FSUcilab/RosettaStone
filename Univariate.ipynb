{
 "cells": [
  {
   "cell_type": "markdown",
   "id": "italian-davis",
   "metadata": {},
   "source": [
    "# Univariate Diagnostics"
   ]
  },
  {
   "cell_type": "code",
   "execution_count": 1,
   "id": "noticed-place",
   "metadata": {},
   "outputs": [],
   "source": [
    "# Use magic commands (%)\n",
    "\n",
    "# When modifying libraries, no need to restart the kernel\n",
    "%load_ext autoreload\n",
    "%autoreload 2"
   ]
  },
  {
   "cell_type": "code",
   "execution_count": 2,
   "id": "renewable-austin",
   "metadata": {},
   "outputs": [],
   "source": [
    "import pandas as pd\n",
    "import matplotlib.pyplot as plt\n",
    "import numpy as np\n",
    "import seaborn as sns\n",
    "\n",
    "import src.copa.util_functions as u"
   ]
  },
  {
   "cell_type": "code",
   "execution_count": 4,
   "id": "latter-withdrawal",
   "metadata": {},
   "outputs": [],
   "source": [
    "# Allow printing of more rows, more columns, etc, of dataframes (i.e., tables)\n",
    "u.setPandasOptions()"
   ]
  },
  {
   "cell_type": "code",
   "execution_count": 5,
   "id": "vital-roman",
   "metadata": {},
   "outputs": [
    {
     "name": "stderr",
     "output_type": "stream",
     "text": [
      "/Users/erlebach/opt/anaconda3/envs/copa/lib/python3.9/site-packages/IPython/core/interactiveshell.py:3165: DtypeWarning: Columns (4) have mixed types.Specify dtype option on import or set low_memory=False.\n",
      "  has_raised = await self.run_ast_nodes(code_ast.body, cell_name,\n"
     ]
    }
   ],
   "source": [
    "# This file has been through cleanupColumns\n",
    "fsu = pd.read_csv(\"data/fsu_clean.csv\") "
   ]
  },
  {
   "cell_type": "markdown",
   "id": "thorough-rates",
   "metadata": {},
   "source": [
    "## Additional filters\n",
    "These are defined in util_functions.py\n",
    "\n",
    "    df = removeCancellations(df)\n",
    "    df = removeTurnbacks(df)\n",
    "    df = removeDiversions(df)\n",
    "    df = filterFlights(df)"
   ]
  },
  {
   "cell_type": "code",
   "execution_count": 6,
   "id": "backed-science",
   "metadata": {},
   "outputs": [
    {
     "name": "stdout",
     "output_type": "stream",
     "text": [
      "removeCancellations\n",
      "df.shape:  (53988, 79)\n",
      "removeTurnbacks\n",
      "Empty DataFrame\n",
      "Columns: [ACTUAL_BLOCK_HR, AIRCRAFT_TYPE, AIRLINE_DESIGNATOR_CD, ARR_DELAY_MINUTES, ARR_DELAY_MINUTES_DV, BANK OVERALL, BANK_CD, BASE_CD, CANCEL_CD, CAPACITY_C_CNT, CAPACITY_CNT, CAPACITY_Y_CNT, CLAVLOCOD, COUNT_ARR00, COUNT_ARR14, COUNT_ARR15, COUNT_ARR90, COUNT_ATB, COUNT_CANCELLATIONS, COUNT_DEP00, COUNT_DEP05, COUNT_DEP15, COUNT_DEP80, COUNT_DIVERSION, COUNT_DLY_FLTS_ARR00, COUNT_DLY_FLTS_ARR14, COUNT_DLY_FLTS_D3H, COUNT_DLY_FLTS_DEP00, COUNT_GTB, CREW_CNT, DEP_DELAY_MINUTES, DEST_CD, DWHLOAD_DTML, ETA_DTMZ, ETD_DTMZ, FLT_ACTUAL_HR, FLT_NUM, FLT_TYPE_CD, FLT_TYPE_NAME, HUB_STN, IN_DTMZ, LEG_STATUS_CD, OD, OFF_DTMZ, ON_DTMZ, OPERATED_CNT, ORIG_CD, ORIGIN_PLANNED, OUT_DTMZ, ROTATION_AVAILABLE_TM, ROTATION_PLANNED_TM, ROTATION_REAL_TM, SCH_ARR_DTL, SCH_ARR_DTML_PTY, SCH_ARR_DTMZ, SCH_ARR_DTZ, SCH_ARR_TML_PTY, SCH_ARR_TMZ, SCH_BLOCK_HR, SCH_DEP_DTL, SCH_DEP_DTML_PTY, SCH_DEP_DTMZ, SCH_DEP_DTZ, SCH_DEP_TML_PTY, SCH_DEP_TMZ, SCH_DEST_CD, SCHD_CNT_ALL, SCHEDULED_ALL, SCHEDULED_CNT, TAIL, TAXI_IN_MINUTES, TAXI_OUT_MINUTES, TIPO_OPR, AC_OWNER_CARRIER_CD, AIRCRAFT_TYPE_ICAO, IN, ON, OUT, OFF]\n",
      "Index: []\n",
      "(53840, 77)\n",
      "removeDiversions (53840, 77)\n",
      "no diversions: \n",
      "(0, 76)\n",
      "(53588, 76)\n"
     ]
    },
    {
     "name": "stderr",
     "output_type": "stream",
     "text": [
      "/Users/erlebach/Dropbox/Copa_excel_files_python/copa/src/copa/util_functions.py:397: SettingWithCopyWarning: \n",
      "A value is trying to be set on a copy of a slice from a DataFrame.\n",
      "Try using .loc[row_indexer,col_indexer] = value instead\n",
      "\n",
      "See the caveats in the documentation: https://pandas.pydata.org/pandas-docs/stable/user_guide/indexing.html#returning-a-view-versus-a-copy\n",
      "  df['FLT_NUM'] = df['FLT_NUM'].copy().astype(str)\n"
     ]
    }
   ],
   "source": [
    "fsu = u.additionalCleanup(fsu)"
   ]
  },
  {
   "cell_type": "markdown",
   "id": "sticky-columbus",
   "metadata": {},
   "source": [
    "# Flights\n",
    "* Every row is a different flight\n",
    "* Flight by hour, day, week, month\n",
    "\n",
    "## General Strategy\n",
    "* Collect the columns of interest into a Dataframe\n",
    "* Work with that dataframe\n",
    "* Much faster since less data"
   ]
  },
  {
   "cell_type": "code",
   "execution_count": 15,
   "id": "driven-librarian",
   "metadata": {},
   "outputs": [
    {
     "name": "stdout",
     "output_type": "stream",
     "text": [
      "CPU times: user 52 ms, sys: 2.95 ms, total: 54.9 ms\n",
      "Wall time: 64.9 ms\n"
     ]
    },
    {
     "data": {
      "text/plain": [
       "<AxesSubplot:>"
      ]
     },
     "execution_count": 15,
     "metadata": {},
     "output_type": "execute_result"
    },
    {
     "data": {
      "image/png": "[encoded data removed]",
      "text/plain": [
       "<Figure size 432x288 with 1 Axes>"
      ]
     },
     "metadata": {
      "needs_background": "light"
     },
     "output_type": "display_data"
    }
   ],
   "source": [
    "%%time\n",
    "fsu.FLT_NUM.hist(bins=30)"
   ]
  },
  {
   "cell_type": "code",
   "execution_count": 17,
   "id": "applied-brave",
   "metadata": {},
   "outputs": [
    {
     "name": "stdout",
     "output_type": "stream",
     "text": [
      "CPU times: user 53.6 ms, sys: 3.15 ms, total: 56.8 ms\n",
      "Wall time: 57.7 ms\n"
     ]
    },
    {
     "data": {
      "text/plain": [
       "<AxesSubplot:>"
      ]
     },
     "execution_count": 17,
     "metadata": {},
     "output_type": "execute_result"
    },
    {
     "data": {
      "image/png": "[encoded data removed]",
      "text/plain": [
       "<Figure size 432x288 with 1 Axes>"
      ]
     },
     "metadata": {
      "needs_background": "light"
     },
     "output_type": "display_data"
    }
   ],
   "source": [
    "%%time\n",
    "data = fsu['FLT_NUM']\n",
    "data.hist()"
   ]
  },
  {
   "cell_type": "code",
   "execution_count": 18,
   "id": "transsexual-negotiation",
   "metadata": {},
   "outputs": [
    {
     "name": "stdout",
     "output_type": "stream",
     "text": [
      "CPU times: user 3.68 s, sys: 136 ms, total: 3.82 s\n",
      "Wall time: 3.55 s\n"
     ]
    },
    {
     "data": {
      "image/png": "[encoded data removed]",
      "text/plain": [
       "<Figure size 1440x720 with 49 Axes>"
      ]
     },
     "metadata": {
      "needs_background": "light"
     },
     "output_type": "display_data"
    }
   ],
   "source": [
    "%%time\n",
    "fsu.hist(bins=50, figsize=(20,10));\n",
    "plt.tight_layout()"
   ]
  },
  {
   "cell_type": "markdown",
   "id": "corrected-reception",
   "metadata": {},
   "source": [
    "## Looking at these plots, which look useful and which don't? \n",
    "* CANCEL_CD, COUNT_CANCELLATIONS, SCHEDULED_ALL, SCHEDULED_CNT, SCHEDULED_CNT_ALL, have one value, so useless\n",
    "    * this is the result of filteirng out cancellations\n",
    "* CAPACITY_Y_CNT has 5 values, and CAPACITY_C_NT has 3. \n",
    "* DEP_DELAY_MINUTES has two values: 0 and 10,000, which must be outliers since we know that there are many flights with 5 min delay\n",
    "    * this must be addressed\n",
    "* CREW_CNT: has a very large numbgrer with 0 crew? WEIRD. \n",
    "* Show the values of some of these plots using fsu.value_counts()"
   ]
  },
  {
   "cell_type": "code",
   "execution_count": null,
   "id": "closed-output",
   "metadata": {
    "tags": []
   },
   "outputs": [],
   "source": [
    "fsu1 = fsu.drop(labels=['CANCEL_CD','COUNT_CANCELLATIONS','SCHEDULED_ALL','SCHEDULED_CNT','SCHD_CNT_ALL'], axis=1)"
   ]
  },
  {
   "cell_type": "code",
   "execution_count": null,
   "id": "reverse-assignment",
   "metadata": {},
   "outputs": [],
   "source": [
    "fsu1.columns"
   ]
  },
  {
   "cell_type": "code",
   "execution_count": null,
   "id": "medical-naples",
   "metadata": {},
   "outputs": [],
   "source": [
    "fsu1['CREW_CNT'].value_counts().head(5)"
   ]
  },
  {
   "cell_type": "code",
   "execution_count": null,
   "id": "painful-husband",
   "metadata": {},
   "outputs": [],
   "source": [
    "# The first value was a vaue I used to replace '?'\n",
    "# Replace by NaN (which counts as a float)\n",
    "fsu1['DEP_DELAY_MINUTES'].value_counts()[0:5]\n",
    "# many zeros (I replaced NaN by zeros)\n",
    "fsu1['CREW_CNT'].value_counts()[0:5]\n",
    "fsu1['COUNT_DLY_FLTS_D3H'].value_counts()[0:5]"
   ]
  },
  {
   "cell_type": "code",
   "execution_count": null,
   "id": "hybrid-grounds",
   "metadata": {},
   "outputs": [],
   "source": [
    "fsu.nunique()"
   ]
  },
  {
   "cell_type": "code",
   "execution_count": null,
   "id": "rocky-april",
   "metadata": {},
   "outputs": [],
   "source": [
    "fsu.dtypes"
   ]
  },
  {
   "cell_type": "code",
   "execution_count": null,
   "id": "creative-senior",
   "metadata": {},
   "outputs": [],
   "source": [
    "(fsu['TAXI_IN_MINUTES'] == '?').sum()"
   ]
  },
  {
   "cell_type": "code",
   "execution_count": null,
   "id": "exclusive-round",
   "metadata": {},
   "outputs": [],
   "source": [
    "(fsu['TAXI_OUT_MINUTES'] == '?').sum()"
   ]
  },
  {
   "cell_type": "markdown",
   "id": "prepared-optimization",
   "metadata": {},
   "source": [
    "* Remove the '?'"
   ]
  },
  {
   "cell_type": "code",
   "execution_count": null,
   "id": "relative-wedding",
   "metadata": {},
   "outputs": [],
   "source": [
    "fsu1['TAXI_IN_MINUTES'] = fsu1['TAXI_IN_MINUTES'].replace('?',np.NaN).astype(float)\n",
    "fsu1['TAXI_OUT_MINUTES'] = fsu1['TAXI_OUT_MINUTES'].replace('?',np.NaN).astype(float)"
   ]
  },
  {
   "cell_type": "code",
   "execution_count": null,
   "id": "creative-yahoo",
   "metadata": {},
   "outputs": [],
   "source": [
    "fsu1['DEP_DELAY_MINUTES'] = fsu1['DEP_DELAY_MINUTES'].replace(9999,np.NaN).astype(float)\n",
    "fsu1['CREW_CNT'] = fsu1['DEP_DELAY_MINUTES'].replace(0,np.NaN).astype(float)"
   ]
  },
  {
   "cell_type": "code",
   "execution_count": null,
   "id": "parental-manitoba",
   "metadata": {},
   "outputs": [],
   "source": [
    "fsu1['TAXI_OUT_MINUTES'].dtype"
   ]
  },
  {
   "cell_type": "code",
   "execution_count": null,
   "id": "universal-murray",
   "metadata": {},
   "outputs": [],
   "source": [
    "# 5898 values of -1435. What is special about these records? \n",
    "fsu1['TAXI_IN_MINUTES'].astype(float).sort_values().head()"
   ]
  },
  {
   "cell_type": "code",
   "execution_count": null,
   "id": "checked-compound",
   "metadata": {},
   "outputs": [],
   "source": [
    "fsu1['TAXI_IN_MINUTES'].replace(-1435.0, np.NaN, inplace=True)\n",
    "# These is one record with negative TAXI_IN_MINUTES. Does not seem possible. Operator entry error?\n",
    "fsu1['TAXI_IN_MINUTES'] < 0\n",
    "(fsu1['TAXI_OUT_MINUTES'] < 0).sum()  # all values are positive"
   ]
  },
  {
   "cell_type": "code",
   "execution_count": null,
   "id": "changing-consent",
   "metadata": {},
   "outputs": [],
   "source": [
    "fsu1.hist(bins=50, figsize=(20,8));"
   ]
  },
  {
   "cell_type": "markdown",
   "id": "buried-batman",
   "metadata": {},
   "source": [
    "# Observation: there are two sets of flights\n",
    "* We learned from Copa that we should only consider FLT_NUM between 0 and 999.\n",
    "* As seen below, there are 4051 flights not CM. We remove them. "
   ]
  },
  {
   "cell_type": "code",
   "execution_count": null,
   "id": "magnetic-multiple",
   "metadata": {},
   "outputs": [],
   "source": [
    "fsu1['TAXI_IN_MINUTES'].hist(bins=50)\n",
    "plt.xlim(35,120)\n",
    "plt.ylim(0,40)"
   ]
  },
  {
   "cell_type": "markdown",
   "id": "proved-intent",
   "metadata": {},
   "source": [
    "## Alternative TAXI time computation: ON (wheels touch) - IN (arrive at the gate)"
   ]
  },
  {
   "cell_type": "code",
   "execution_count": null,
   "id": "surrounded-fetish",
   "metadata": {},
   "outputs": [],
   "source": [
    "# IN_DTMZ has some ?, so I could remove all lines with '?'\n",
    "(fsu1['IN_DTMZ'] == '?').sum()"
   ]
  },
  {
   "cell_type": "code",
   "execution_count": null,
   "id": "breeding-battery",
   "metadata": {},
   "outputs": [],
   "source": [
    "(fsu1['ON_DTMZ'] == '?').sum()"
   ]
  },
  {
   "cell_type": "markdown",
   "id": "bridal-theater",
   "metadata": {},
   "source": [
    "* Let us remove 9 rows from fsu1"
   ]
  },
  {
   "cell_type": "code",
   "execution_count": null,
   "id": "pretty-things",
   "metadata": {},
   "outputs": [],
   "source": [
    "fsu1 = fsu1.loc[fsu1['IN_DTMZ'] != '?', :]"
   ]
  },
  {
   "cell_type": "code",
   "execution_count": null,
   "id": "behind-chamber",
   "metadata": {},
   "outputs": [],
   "source": [
    "hmin_in = u.series_to_time_components(fsu1['IN_DTMZ'], suffix='_in')\n",
    "hmin_on = u.series_to_time_components(fsu1['ON_DTMZ'], suffix='_on')\n",
    "#d_in    = u.series_to_date_components(fsu1['IN'], suffix='_in').loc[:,'d_in'].to_frame('d_in')\n",
    "#d_on    = u.series_to_date_components(fsu1['ON'], suffix='_on').loc[:,'d_on'].to_frame('d_on')"
   ]
  },
  {
   "cell_type": "code",
   "execution_count": null,
   "id": "greatest-saudi",
   "metadata": {},
   "outputs": [],
   "source": [
    "# days and months\n",
    "d_in = fsu['IN'].str[0:2].astype(int)\n",
    "d_on = fsu['ON'].str[0:2].astype(int)\n",
    "m_in = fsu['IN'].str[0:2].astype(int)\n",
    "m_on = fsu['ON'].str[0:2].astype(int)\n",
    "\n",
    "# Months are always equal\n",
    "# Days are not equal"
   ]
  },
  {
   "cell_type": "code",
   "execution_count": null,
   "id": "mediterranean-hypothetical",
   "metadata": {},
   "outputs": [],
   "source": [
    "times = pd.concat([d_in,d_on,hmin_in, hmin_on], axis=1)"
   ]
  },
  {
   "cell_type": "code",
   "execution_count": null,
   "id": "cleared-progressive",
   "metadata": {},
   "outputs": [],
   "source": [
    "hmin_in_bak = hmin_in.copy()\n",
    "hmin_on_bak = hmin_on.copy()"
   ]
  },
  {
   "cell_type": "code",
   "execution_count": null,
   "id": "weighted-cheat",
   "metadata": {},
   "outputs": [],
   "source": [
    "hmin_in = hmin_in_bak.copy()\n",
    "hmin_on = hmin_on_bak.copy()"
   ]
  },
  {
   "cell_type": "code",
   "execution_count": null,
   "id": "nervous-triple",
   "metadata": {},
   "outputs": [],
   "source": [
    "hmin = hmin_in.values - hmin_on.values\n",
    "minutes_days = (d_in - d_on)*24*60 \n",
    "minutes = hmin[:,0]*60 + hmin[:,1] \n",
    "#plt.hist(minutes, bins=50);\n",
    "#plt.xlim(-50,120)\n",
    "#plt.ylim(0,50)\n",
    "fsu1['minutes'] = minutes\n",
    "fsu1['minutes_d'] = minutes_days\n",
    "fsu1[fsu1['minutes'] < 0][['IN','ON','minutes','minutes_d']].head(5)\n",
    "\n",
    "# The reason for the large negative numbers is clear. IN is slightly after midnight, \n",
    "# and OUT is slightly before midnight. If the 'hour' is 0, I should add 24"
   ]
  },
  {
   "cell_type": "markdown",
   "id": "knowing-traffic",
   "metadata": {},
   "source": [
    "* Remove about 270 records with minutes < -1000 \n",
    "    * these result from days off by 1 between IN and ON\n",
    "* There remains one record with minutes == -25, which we ignore"
   ]
  },
  {
   "cell_type": "code",
   "execution_count": null,
   "id": "searching-communist",
   "metadata": {},
   "outputs": [],
   "source": [
    "fsu1.loc[(fsu1['minutes'] < -1000), :] = np.nan"
   ]
  },
  {
   "cell_type": "code",
   "execution_count": null,
   "id": "external-parts",
   "metadata": {},
   "outputs": [],
   "source": [
    "fsu1['minutes'].hist(bins=50, range=(0,50))\n",
    "plt.xlim(0, 40)"
   ]
  },
  {
   "cell_type": "code",
   "execution_count": null,
   "id": "formed-provision",
   "metadata": {},
   "outputs": [],
   "source": [
    "fsu1['minutes'].value_counts().sort_index().head(5)"
   ]
  },
  {
   "cell_type": "markdown",
   "id": "disturbed-elder",
   "metadata": {},
   "source": [
    "### There are 454 flights with TAXI_IN > 25 min (out of about 50,000)"
   ]
  },
  {
   "cell_type": "code",
   "execution_count": null,
   "id": "cleared-harassment",
   "metadata": {},
   "outputs": [],
   "source": [
    "vc = fsu1['minutes'].value_counts()\n",
    "vc[vc.index > 25].sum()"
   ]
  },
  {
   "cell_type": "code",
   "execution_count": null,
   "id": "desperate-bulletin",
   "metadata": {},
   "outputs": [],
   "source": [
    "fsu1['minutes'].value_counts().sort_index().tail(10)"
   ]
  },
  {
   "cell_type": "code",
   "execution_count": null,
   "id": "political-affiliation",
   "metadata": {},
   "outputs": [],
   "source": [
    "hmin_in.loc[hmin_in['h_in'] == 0, 'h_in'] = hmin_in['h_in'] + 24"
   ]
  },
  {
   "cell_type": "markdown",
   "id": "czech-height",
   "metadata": {},
   "source": [
    "## Repeat for TAXI_IN_MINUTES"
   ]
  },
  {
   "cell_type": "code",
   "execution_count": null,
   "id": "outer-barbados",
   "metadata": {},
   "outputs": [],
   "source": [
    "fsu1.columns"
   ]
  },
  {
   "cell_type": "markdown",
   "id": "fixed-calcium",
   "metadata": {},
   "source": [
    "* All values are defined\n",
    "* However, there are very large tails (> 10 hours!)\n",
    "* What are these outliers? Are they real ?"
   ]
  },
  {
   "cell_type": "code",
   "execution_count": null,
   "id": "conservative-heritage",
   "metadata": {},
   "outputs": [],
   "source": [
    "fsu1['TAXI_OUT_MINUTES'].hist(bins=50) #, range=(0,60))"
   ]
  },
  {
   "cell_type": "markdown",
   "id": "excellent-feelings",
   "metadata": {},
   "source": [
    "There is clearly an outlier. "
   ]
  },
  {
   "cell_type": "code",
   "execution_count": null,
   "id": "extreme-second",
   "metadata": {},
   "outputs": [],
   "source": [
    "fsu1['TAXI_OUT_MINUTES'].value_counts().sort_index().tail(5)"
   ]
  },
  {
   "cell_type": "markdown",
   "id": "growing-parallel",
   "metadata": {},
   "source": [
    "So we see some Taxi out times of two hours and one of 10 hours. Look at the record. \n",
    "* Always check outliers to determine their cause if possible!"
   ]
  },
  {
   "cell_type": "code",
   "execution_count": null,
   "id": "personalized-skiing",
   "metadata": {},
   "outputs": [],
   "source": [
    "fsu1[fsu1['TAXI_OUT_MINUTES'] > 700]"
   ]
  },
  {
   "cell_type": "markdown",
   "id": "cubic-attempt",
   "metadata": {},
   "source": [
    "We tabulate some values: \n",
    "* OUT = 2:24  (time)\n",
    "* OFF: 14:25  (12 hours, almost exactly, later)\n",
    "* DEP_DELAY_MINUTES: NaN (so not recorded)\n",
    "* SCH_DEP_DTMZ: 12/11/2019, 2:24\n",
    "* Actual departure time: not known. \n",
    "\n",
    "So the record can either be ignored, or one must investigate a possible IRROP on that day. "
   ]
  },
  {
   "cell_type": "markdown",
   "id": "portuguese-worse",
   "metadata": {},
   "source": [
    "## Interesting observation \n",
    "* There are 3 strong peaks. What are they? \n",
    "* Let us changte the number of bars to 70, then 60\n",
    "* Conclusion the peaks were an artifact of the parameters chosen\n",
    "\n",
    "## Important lessons: play with different parameters\n",
    "* Consider bar charts versus histograms\n",
    "* If x values (x) are equally-spaced, bar charts are often more appropriate"
   ]
  },
  {
   "cell_type": "code",
   "execution_count": null,
   "id": "collect-arthur",
   "metadata": {},
   "outputs": [],
   "source": [
    "f = plt.figure(figsize=(10,5))\n",
    "f.add_subplot(1,3,1)\n",
    "fsu1['TAXI_OUT_MINUTES'].hist(bins=50, range=(0,55))\n",
    "f.add_subplot(1,3,2)\n",
    "fsu1['TAXI_OUT_MINUTES'].hist(bins=60, range=(0,58))\n",
    "f.add_subplot(1,3,3)\n",
    "fsu1['TAXI_OUT_MINUTES'].hist(bins=70, range=(0,62))"
   ]
  },
  {
   "cell_type": "markdown",
   "id": "growing-chart",
   "metadata": {},
   "source": [
    "# Another way to draw outlier: the BoxPlot\n",
    "* Use the Seaborn library\n",
    "* Notice the outlier at 700\n",
    "* replot from 0 to 100"
   ]
  },
  {
   "cell_type": "code",
   "execution_count": null,
   "id": "nutritional-cursor",
   "metadata": {},
   "outputs": [],
   "source": [
    "data = fsu1['TAXI_OUT_MINUTES']\n",
    "sns.boxplot(data, x='TAXI_OUT_MINUTES')"
   ]
  },
  {
   "cell_type": "code",
   "execution_count": null,
   "id": "suited-detective",
   "metadata": {},
   "outputs": [],
   "source": [
    "sns.boxplot(data, x='TAXI_OUT_MINUTES', color='red')\n",
    "plt.xlim(0,120)"
   ]
  },
  {
   "attachments": {
    "53eb9fc3-b7a9-4c35-be31-2ca6e8d70e1e.jpg": {
     "image/jpeg": "[encoded data removed]"
    }
   },
   "cell_type": "markdown",
   "id": "pressing-victor",
   "metadata": {},
   "source": [
    "## Observations and description\n",
    "* The red rectangle contains 50% of the data (1st and 3rd quartile). \n",
    "* The thin black line inside the rectangle is the 2nd quartile.\n",
    "* The two vertical lines represent the last point beyond the 1.5*IQR\n",
    "* IQR is the Interquartile = (x[3rd Quart] - x[1st Quart])*1.5 \n",
    "\n",
    "![2021-04-23_01-46-08.jpg](attachment:53eb9fc3-b7a9-4c35-be31-2ca6e8d70e1e.jpg)"
   ]
  },
  {
   "cell_type": "markdown",
   "id": "alleged-offset",
   "metadata": {},
   "source": [
    "The box plot is often more informative than the histogram\n",
    "* one can retrieve information about skewness, symmetry, and outliers. "
   ]
  },
  {
   "cell_type": "markdown",
   "id": "dedicated-makeup",
   "metadata": {},
   "source": [
    "## Compare the Boxplots of TAXI_IN and TAXI_OUT"
   ]
  },
  {
   "cell_type": "code",
   "execution_count": null,
   "id": "horizontal-casting",
   "metadata": {},
   "outputs": [],
   "source": [
    "data = fsu1[['TAXI_IN_MINUTES','TAXI_OUT_MINUTES']]\n",
    "data.boxplot()\n",
    "plt.ylim(0,150)"
   ]
  },
  {
   "cell_type": "markdown",
   "id": "nearby-grace",
   "metadata": {},
   "source": [
    "## Taxi time (IN vs OUT) : observations\n",
    "* The median of TAXI_IN is shorter than the median TAXI_OUT\n",
    "* The middle 50% of TAXI_IN are lower (!!) than the middle 50% of TAXI_OUT\n",
    "* Both have lots of outliers"
   ]
  },
  {
   "cell_type": "code",
   "execution_count": null,
   "id": "devoted-pharmaceutical",
   "metadata": {},
   "outputs": [],
   "source": [
    "sns.scatterplot(data=data, x='TAXI_IN_MINUTES', y='TAXI_OUT_MINUTES')\n",
    "plt.ylim(0,100)"
   ]
  },
  {
   "cell_type": "markdown",
   "id": "induced-state",
   "metadata": {},
   "source": [
    "## This scatterplot is very interesting\n",
    "The points are bounded by a region contained by two straight lines and an approximate hyperbola. \n",
    "I wonder why. Worth investigating one day?\n",
    "* What is the second most important variable that correlates TAXI time? \n",
    "    * Miles? Block-hours? Delays? "
   ]
  },
  {
   "cell_type": "markdown",
   "id": "tough-studio",
   "metadata": {},
   "source": [
    "## Analyze departure and arrival delay, along with TAXI time"
   ]
  },
  {
   "cell_type": "code",
   "execution_count": null,
   "id": "radical-castle",
   "metadata": {},
   "outputs": [],
   "source": [
    "data = fsu1[['TAXI_IN_MINUTES','TAXI_OUT_MINUTES','DEP_DELAY_MINUTES','ARR_DELAY_MINUTES']]  \n",
    "#data = fsu1[['DEP_DELAY_MINUTES']] "
   ]
  },
  {
   "cell_type": "code",
   "execution_count": null,
   "id": "popular-letter",
   "metadata": {},
   "outputs": [],
   "source": [
    "# Notice that ARR_DELAY_MINUTES is not plotted\n",
    "# Also notice that that the box for DEP_DELAY_MINUTES is below zero. \n",
    "#    Tehrefore, more than 50% of the flights leave earlier than scheduled!\n",
    "# Question why are there outliers on the negative side of DEP_DELAY_MINUTES? \n",
    "#    What does a 40 min early flight mean?\n",
    "f = plt.figure(figsize=(10,5))\n",
    "f.add_subplot(1,2,1)\n",
    "data.boxplot()\n",
    "f.add_subplot(1,2,2)\n",
    "data.boxplot()\n",
    "plt.ylim(-50,50)\n",
    "plt.tight_layout()"
   ]
  },
  {
   "cell_type": "code",
   "execution_count": null,
   "id": "incident-guess",
   "metadata": {},
   "outputs": [],
   "source": [
    "# How many outliers are there for departure delays? \n",
    "dep_gt_15m = (fsu1['DEP_DELAY_MINUTES'] > 15).sum()\n",
    "dep_gt_0m = (fsu1['DEP_DELAY_MINUTES'] > 0).sum()"
   ]
  },
  {
   "cell_type": "code",
   "execution_count": null,
   "id": "recovered-japan",
   "metadata": {},
   "outputs": [],
   "source": [
    "dep_gt_15m / fsu1.shape[0], dep_gt_0m / fsu1.shape[0]"
   ]
  },
  {
   "cell_type": "markdown",
   "id": "working-tradition",
   "metadata": {},
   "source": [
    "## Delay statistics\n",
    "2.8 percent of departures are delayed by more than 0m\n",
    "0.8 percent of departures are delayed by more than 15m"
   ]
  },
  {
   "cell_type": "code",
   "execution_count": null,
   "id": "legal-modem",
   "metadata": {},
   "outputs": [],
   "source": [
    "fsu1['ARR_DELAY_MINUTES'].value_counts().sort_index(ascending=False)\n",
    "fsu1['ARR_DELAY_MINUTES'] = fsu1['ARR_DELAY_MINUTES'].astype(float) "
   ]
  },
  {
   "cell_type": "code",
   "execution_count": null,
   "id": "growing-darkness",
   "metadata": {},
   "outputs": [],
   "source": [
    "fsu1['ARR_DELAY_MINUTES'].dtype"
   ]
  },
  {
   "cell_type": "code",
   "execution_count": null,
   "id": "frozen-designer",
   "metadata": {},
   "outputs": [],
   "source": [
    "f = plt.figure(figsize=(10,5))\n",
    "data = fsu1[['TAXI_IN_MINUTES','TAXI_OUT_MINUTES','DEP_DELAY_MINUTES','ARR_DELAY_MINUTES']] \n",
    "data.boxplot()\n",
    "plt.ylim(-50,50)\n",
    "plt.tight_layout()"
   ]
  },
  {
   "cell_type": "markdown",
   "id": "young-gamma",
   "metadata": {},
   "source": [
    "## Observation\n",
    "* Arr_delay_minutes is symmetric for the middle 50% of the observations\n",
    "* Use of histogram requires more playing with the parameters before getting it right\n",
    "* First hist with default parameters, then with parameter adjustments"
   ]
  },
  {
   "cell_type": "code",
   "execution_count": null,
   "id": "domestic-clinic",
   "metadata": {},
   "outputs": [],
   "source": [
    "f = plt.figure(figsize=(10,5))\n",
    "f.add_subplot(1,2,1)\n",
    "plt.hist(fsu1['ARR_DELAY_MINUTES'], density=True) \n",
    "f.add_subplot(1,2,2)\n",
    "plt.hist(fsu1['ARR_DELAY_MINUTES'], range=(-50,100), bins=200, density=True);"
   ]
  },
  {
   "cell_type": "code",
   "execution_count": null,
   "id": "operational-convergence",
   "metadata": {},
   "outputs": [],
   "source": [
    "sns.histplot(data=data, x='DEP_DELAY_MINUTES')\n",
    "plt.xlim(-50,100)"
   ]
  },
  {
   "cell_type": "code",
   "execution_count": null,
   "id": "consolidated-township",
   "metadata": {},
   "outputs": [],
   "source": [
    "data.columns"
   ]
  },
  {
   "cell_type": "code",
   "execution_count": null,
   "id": "interesting-length",
   "metadata": {},
   "outputs": [],
   "source": [
    "f = plt.figure(figsize=(10,5))\n",
    "sns.boxplot(data=data)\n",
    "sns.violinplot(data=data, trim=True, alpha=0.5) \n",
    "plt.ylim(-40, 50)"
   ]
  },
  {
   "cell_type": "code",
   "execution_count": null,
   "id": "violent-spell",
   "metadata": {},
   "outputs": [],
   "source": [
    "f = plt.figure(figsize=(10,5))\n",
    "sns.catplot(data=data.iloc[0:1000], kind='box')\n",
    "plt.ylim(-40, 50)"
   ]
  },
  {
   "cell_type": "code",
   "execution_count": null,
   "id": "female-recognition",
   "metadata": {},
   "outputs": [],
   "source": []
  }
 ],
 "metadata": {
  "kernelspec": {
   "display_name": "Python 3",
   "language": "python",
   "name": "python3"
  },
  "language_info": {
   "codemirror_mode": {
    "name": "ipython",
    "version": 3
   },
   "file_extension": ".py",
   "mimetype": "text/x-python",
   "name": "python",
   "nbconvert_exporter": "python",
   "pygments_lexer": "ipython3",
   "version": "3.9.2"
  },
  "widgets": {
   "application/vnd.jupyter.widget-state+json": {
    "state": {},
    "version_major": 2,
    "version_minor": 0
   }
  }
 },
 "nbformat": 4,
 "nbformat_minor": 5
}
